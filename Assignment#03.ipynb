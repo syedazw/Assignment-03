{
 "cells": [
  {
   "cell_type": "markdown",
   "metadata": {},
   "source": [
    "# Q1"
   ]
  },
  {
   "cell_type": "code",
   "execution_count": 7,
   "metadata": {},
   "outputs": [
    {
     "name": "stdout",
     "output_type": "stream",
     "text": [
      "Twinkle, twinkle, little star,\n",
      "\tHow I wonder what you are!\n",
      "\t\tUp above the world so high,\n",
      "\t\tLike a diamond in the sky.\n",
      "Twinkle, twinkle, little star,\n",
      "\tHow I wonder what you are\n"
     ]
    }
   ],
   "source": [
    "print(\"Twinkle, twinkle, little star,\\n\\tHow I wonder what you are!\\n\\t\\tUp above the world so high,\\n\\t\\tLike a diamond in the sky.\\nTwinkle, twinkle, little star,\\n\\tHow I wonder what you are\")"
   ]
  },
  {
   "cell_type": "markdown",
   "metadata": {},
   "source": [
    "# Q2"
   ]
  },
  {
   "cell_type": "code",
   "execution_count": 11,
   "metadata": {},
   "outputs": [
    {
     "data": {
      "text/plain": [
       "'3.7.3 (default, Apr 24 2019, 15:29:51) [MSC v.1915 64 bit (AMD64)]'"
      ]
     },
     "execution_count": 11,
     "metadata": {},
     "output_type": "execute_result"
    }
   ],
   "source": [
    "import sys\n",
    "sys.version"
   ]
  },
  {
   "cell_type": "markdown",
   "metadata": {},
   "source": [
    "# Q3"
   ]
  },
  {
   "cell_type": "code",
   "execution_count": 21,
   "metadata": {},
   "outputs": [
    {
     "name": "stdout",
     "output_type": "stream",
     "text": [
      "Current Time:  12:24:21\n",
      "Current Date: October 24th,2021\n"
     ]
    }
   ],
   "source": [
    "from datetime import datetime \n",
    "x = datetime.now()\n",
    "print(x.strftime(\"Current Time:  %I:%M:%S\\nCurrent Date: %B %dth,%Y\"))"
   ]
  },
  {
   "cell_type": "markdown",
   "metadata": {},
   "source": [
    "# Q4"
   ]
  },
  {
   "cell_type": "code",
   "execution_count": 23,
   "metadata": {},
   "outputs": [
    {
     "name": "stdout",
     "output_type": "stream",
     "text": [
      "Enter radius value: 12\n",
      "Area of circle:  452.3893421169302\n"
     ]
    }
   ],
   "source": [
    "import math\n",
    "radius = int(input(\"Enter radius value: \"))\n",
    "area = math.pi* radius**2\n",
    "print(\"Area of circle: \",area)"
   ]
  },
  {
   "cell_type": "markdown",
   "metadata": {},
   "source": [
    "# Q5"
   ]
  },
  {
   "cell_type": "code",
   "execution_count": 27,
   "metadata": {},
   "outputs": [
    {
     "name": "stdout",
     "output_type": "stream",
     "text": [
      "Enter first name: Syeda\n",
      "Enter last name: Zainab\n",
      "Reverse Order:  Zainab Syeda\n"
     ]
    }
   ],
   "source": [
    "frst_name = str(input(\"Enter first name: \"))\n",
    "lst_name = str(input(\"Enter last name: \"))\n",
    "print(\"Reverse Order: \",lst_name +\" \"+ frst_name)"
   ]
  },
  {
   "cell_type": "markdown",
   "metadata": {},
   "source": [
    "# Q6"
   ]
  },
  {
   "cell_type": "code",
   "execution_count": 29,
   "metadata": {},
   "outputs": [
    {
     "name": "stdout",
     "output_type": "stream",
     "text": [
      "Enter first number: 12\n",
      "Enter second number: 3\n",
      "Addition:  15\n"
     ]
    }
   ],
   "source": [
    "frst = int(input(\"Enter first number: \"))\n",
    "scnd = int(input(\"Enter second number: \"))\n",
    "add = frst + scnd\n",
    "print(\"Addition: \",add)"
   ]
  },
  {
   "cell_type": "markdown",
   "metadata": {},
   "source": [
    "# Q7"
   ]
  },
  {
   "cell_type": "code",
   "execution_count": 34,
   "metadata": {},
   "outputs": [
    {
     "name": "stdout",
     "output_type": "stream",
     "text": [
      "Enter English number: 67\n",
      "Enter Islamiat number: 76\n",
      "Enter Maths number: 87\n",
      "Enter Urdu number: 59\n",
      "Enter Science number: 90\n",
      "============================ SYEDA MARKSHEET ====================================\n",
      "Percentage:  76.66666666666667 %\n",
      "Grade: A\n"
     ]
    }
   ],
   "source": [
    "English = int(input(\"Enter English number: \"))\n",
    "Islamiat = int(input(\"Enter Islamiat number: \"))\n",
    "Maths = int(input(\"Enter Maths number: \"))\n",
    "Urdu = int(input(\"Enter Urdu number: \"))\n",
    "Sci = int(input(\"Enter Science number: \"))\n",
    "Total_Marks = 300\n",
    "Percentage = ((English + Islamiat + Maths) / Total_Marks * 100)\n",
    "print(\"============================ SYEDA MARKSHEET ====================================\")\n",
    "print(\"Percentage: \", Percentage,\"%\")\n",
    "if Percentage <= 100 and Percentage > 80:\n",
    "    print(\"Grade: A+\")\n",
    "elif Percentage <= 80 and Percentage > 70:\n",
    "    print(\"Grade: A\")\n",
    "elif Percentage <= 70 and Percentage > 60:\n",
    "    print(\"Grade: B\")\n",
    "elif Percentage <= 60 and Percentage > 50:\n",
    "    print(\"Grade: C\")\n",
    "elif Percentage <= 50 and Percentage > 40:\n",
    "    print(\"Grade: D\")\n",
    "elif Percentage <= 40 and Percentage > 30:\n",
    "    print(\"Grade: E\")\n",
    "else:\n",
    "    print(\"Fail\")"
   ]
  },
  {
   "cell_type": "markdown",
   "metadata": {},
   "source": [
    "# Q8"
   ]
  },
  {
   "cell_type": "code",
   "execution_count": 39,
   "metadata": {},
   "outputs": [
    {
     "name": "stdout",
     "output_type": "stream",
     "text": [
      "Enter number: 10\n",
      "Even Number.\n"
     ]
    }
   ],
   "source": [
    "a = int(input(\"Enter number: \"))\n",
    "if a%2 == 0 :\n",
    "    print(\"Even Number.\")\n",
    "elif a%3 != 0:\n",
    "    print(\"Odd Number.\")\n",
    "else:\n",
    "    print(\"Nothing\")"
   ]
  },
  {
   "cell_type": "markdown",
   "metadata": {},
   "source": [
    "# Q9"
   ]
  },
  {
   "cell_type": "code",
   "execution_count": 44,
   "metadata": {},
   "outputs": [
    {
     "name": "stdout",
     "output_type": "stream",
     "text": [
      "Length of List: 5\n"
     ]
    }
   ],
   "source": [
    "x = {\"Ali\",23,\"Apple\",\"Pakistan\",0}\n",
    "print(\"Length of List:\",len(x))"
   ]
  },
  {
   "cell_type": "markdown",
   "metadata": {},
   "source": [
    "# Q10"
   ]
  },
  {
   "cell_type": "code",
   "execution_count": 7,
   "metadata": {},
   "outputs": [
    {
     "name": "stdout",
     "output_type": "stream",
     "text": [
      "41\n"
     ]
    }
   ],
   "source": [
    "x = {2,23,10,1,5}\n",
    "a = sum(x)\n",
    "print(a)"
   ]
  },
  {
   "cell_type": "markdown",
   "metadata": {},
   "source": [
    "# Q11"
   ]
  },
  {
   "cell_type": "code",
   "execution_count": 2,
   "metadata": {},
   "outputs": [
    {
     "name": "stdout",
     "output_type": "stream",
     "text": [
      "Largest number is:  23\n"
     ]
    }
   ],
   "source": [
    "x = {23,5,10}\n",
    "print(\"Largest number is: \",max(x))"
   ]
  },
  {
   "cell_type": "markdown",
   "metadata": {},
   "source": [
    "# Q12"
   ]
  },
  {
   "cell_type": "code",
   "execution_count": 5,
   "metadata": {},
   "outputs": [
    {
     "name": "stdout",
     "output_type": "stream",
     "text": [
      "These numbers are less than 5:\n",
      "1\n",
      "2\n",
      "3\n"
     ]
    }
   ],
   "source": [
    "print(\"These numbers are less than 5:\")\n",
    "a = {1,1,2,3,5,8,13,21,34,55,89}\n",
    "for x in a:\n",
    "    if x < 5:\n",
    "        print(x)"
   ]
  }
 ],
 "metadata": {
  "kernelspec": {
   "display_name": "Python 3",
   "language": "python",
   "name": "python3"
  },
  "language_info": {
   "codemirror_mode": {
    "name": "ipython",
    "version": 3
   },
   "file_extension": ".py",
   "mimetype": "text/x-python",
   "name": "python",
   "nbconvert_exporter": "python",
   "pygments_lexer": "ipython3",
   "version": "3.7.3"
  }
 },
 "nbformat": 4,
 "nbformat_minor": 2
}
